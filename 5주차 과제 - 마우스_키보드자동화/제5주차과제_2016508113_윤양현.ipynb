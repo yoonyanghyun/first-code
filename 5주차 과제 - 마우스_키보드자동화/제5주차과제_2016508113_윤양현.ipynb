{
 "metadata": {
  "language_info": {
   "codemirror_mode": {
    "name": "ipython",
    "version": 3
   },
   "file_extension": ".py",
   "mimetype": "text/x-python",
   "name": "python",
   "nbconvert_exporter": "python",
   "pygments_lexer": "ipython3",
   "version": "3.8.5-final"
  },
  "orig_nbformat": 2,
  "kernelspec": {
   "name": "python3",
   "display_name": "Python 3.8.5 64-bit (conda)",
   "metadata": {
    "interpreter": {
     "hash": "086882d28bd03a6cf33d8eea9160897c2cf3ffdfe88a3e1e797ea728b8f07bf6"
    }
   }
  }
 },
 "nbformat": 4,
 "nbformat_minor": 2,
 "cells": [
  {
   "cell_type": "code",
   "execution_count": 22,
   "metadata": {},
   "outputs": [],
   "source": [
    "## 광운대 유캠퍼스 자동 강의 듣기\n",
    "## 현재 컴퓨터에 위치해 있는 크롬창, 북마크,로그인 포인트이기에 다른 컴퓨터 환경에서는 작동되지 않습니다. 다른 컴퓨터 환경에서는 마우스 포인터 위치를 변경시켜야 합니다.\n",
    "## 강의 학습기간 전이거나, 혹은 학습기간이 넘어가면 자동화 프로그램이 적용되지 않습니다\n",
    "### 주석이 3개로 되어 있는 것은 활용한 코드의 일부입니다.\n",
    "\n",
    "import time\n",
    "import pyautogui\n",
    "\n",
    "def movepoint(x,y):\n",
    "    pyautogui.moveTo(x,y,duration=1) # 마우스 포인터 이동 함수화\n",
    "\n",
    "movepoint(645,1055) # 현재 컴퓨터에 있는 크롬창으로 이동\n",
    "pyautogui.click() # 클릭\n",
    "time.sleep(2) # 딜레이(초단위)\n",
    "\n",
    "movepoint(380,105) # 현재 북마크 되어 있는 klas 창으로 이동\n",
    "pyautogui.click()\n",
    "time.sleep(3)\n",
    "\n",
    "movepoint(950,290) # 로그인 아이디 창 이동\n",
    "pyautogui.doubleClick()\n",
    "pyautogui.press('del') # 로그인 창에 입력되어 있는 타이핑 문자 지우기\n",
    "pyautogui.write('2016508113') # 로그인 아이디 입력\n",
    "time.sleep(1)\n",
    "\n",
    "movepoint(600,500)\n",
    "pyautogui.click() # 자동 로그인창이 뜨기에 마우스 포인터를 이동시켜 자동 로그인 클릭 창을 지우기 \n",
    "movepoint(950,350) # 패스워드 창 이동\n",
    "pyautogui.doubleClick()\n",
    "pyautogui.press('del')\n",
    "pyautogui.write('비밀번호를 입력하세요') # 비밀번호 입력\n",
    "time.sleep(1)\n",
    "\n",
    "movepoint(960,415) # klas 로그인 창 이동 및 클릭\n",
    "pyautogui.click()\n",
    "time.sleep(5)\n",
    "\n",
    "\n",
    "\n",
    "\n",
    "# 강의 첫 번째 이동\n",
    "\n",
    "# movepoint(715,350) \n",
    "# pyautogui.click()\n",
    "# time.sleep(2)\n",
    "\n",
    "# for i in range(30):\n",
    "#     pyautogui.scroll(-100) # 아래로 스크롤링\n",
    "\n",
    "### pyautogui.position() - 강의 '보기'창의 위치 찾기(마우스 포인터)\n",
    "# pyautogui.screenshot('see.png',region=(1395,614,50,22)) # 찾아낸 '보기' 창의 위치와 픽셀 크기를 지정 및 'see.png'로 저장\n",
    "# a = list(pyautogui.locateAllOnScreen('see.png')) # 리스트화한 자료 a 저장\n",
    "# watch_lecture = a[-1] # 가장 마지막 위치의 자료 인덱싱 저장\n",
    "# #print(watch_lecture)\n",
    "# x,y = watch_lecture[0:2] # 좌표 위치 저장\n",
    "# #print(x,y)\n",
    "# pyautogui.click(x,y) # 가장 최근의 강의 실행\n",
    "\n",
    "\n",
    "# 강의 두 번째 이동\n",
    "movepoint(715,390) \n",
    "pyautogui.click()\n",
    "time.sleep(2)\n",
    "\n",
    "for i in range(30):\n",
    "    pyautogui.scroll(-100) # 마우스 휠 내리기\n",
    "\n",
    "pyautogui.screenshot('see.png',region=(1395,614,50,22)) # 찾아낸 '보기' 창의 위치와 픽셀 크기를 지정 및 'see.png'로 저장\n",
    "a = list(pyautogui.locateAllOnScreen('see.png')) # 리스트화하여 변수 a에 저장\n",
    "watch_lecture = a[-1] # 가장 최근 '보기' 위치 저장\n",
    "x,y = watch_lecture[0:2] # 좌표 위치 저장\n",
    "pyautogui.click(x,y) # 가장 최근의 강의 실행\n",
    "time.sleep(5)\n",
    "\n",
    "pyautogui.press('enter') # 안내창 확인\n",
    "time.sleep(1)\n",
    "\n",
    "movepoint(955,555)\n",
    "pyautogui.click()\n",
    "\n",
    "\n",
    "\n",
    "\n",
    "# movepoint(715,430) # 강의 세 번째\n",
    "# movepoint(715,470) # 강의 네 번째\n",
    "# movepoint(715,510) # 강의 다섯 번째\n",
    "# movepoint(715,550) # 강의 여섯 번째"
   ]
  },
  {
   "cell_type": "code",
   "execution_count": 4,
   "metadata": {},
   "outputs": [
    {
     "output_type": "execute_result",
     "data": {
      "text/plain": [
       "Size(width=1920, height=1080)"
      ]
     },
     "metadata": {},
     "execution_count": 4
    }
   ],
   "source": [
    "pyautogui.size()"
   ]
  },
  {
   "cell_type": "code",
   "execution_count": 11,
   "metadata": {},
   "outputs": [],
   "source": [
    "import pyautogui\n",
    "from subprocess import Popen\n",
    "import time\n",
    "\n",
    "Popen('notepad')  # 메모장을 실행한다.\n",
    "\n",
    "time.sleep(1) # 1초 대기\n",
    "\n",
    "pyautogui.hotkey('')\n",
    "pyautogui.press(['hangul'])  # 한글 모드로 전환\n",
    "pyautogui.typewrite('tpwhdeodhkdakstp', interval=0.1)  # 한글 자판 입력하듯이 영문 자판입력"
   ]
  },
  {
   "cell_type": "code",
   "execution_count": 12,
   "metadata": {},
   "outputs": [],
   "source": [
    "movepoint(950,290) # 로그인 아이디 창 이동\n",
    "pyautogui.doubleClick()\n",
    "pyautogui.press('del')\n",
    "pyautogui.write('2016508113')"
   ]
  },
  {
   "cell_type": "code",
   "execution_count": 13,
   "metadata": {},
   "outputs": [],
   "source": [
    "movepoint(645,1055) # 현재 컴퓨터에 있는 크롬창으로 이동\n",
    "pyautogui.click()\n",
    "movepoint(500,500)\n",
    "pyautogui.click()\n",
    "\n",
    "for i in range(10):\n",
    "    pyautogui.scroll(-200)\n"
   ]
  },
  {
   "cell_type": "code",
   "execution_count": 14,
   "metadata": {},
   "outputs": [
    {
     "output_type": "stream",
     "name": "stdout",
     "text": [
      "Requirement already satisfied: opencv-python in c:\\users\\yangh\\anaconda3\\lib\\site-packages (4.5.1.48)\n",
      "Requirement already satisfied: numpy>=1.17.3 in c:\\users\\yangh\\anaconda3\\lib\\site-packages (from opencv-python) (1.19.2)\n"
     ]
    }
   ],
   "source": [
    "!pip install opencv-python"
   ]
  },
  {
   "cell_type": "code",
   "execution_count": 15,
   "metadata": {},
   "outputs": [
    {
     "output_type": "error",
     "ename": "OSError",
     "evalue": "Failed to read C:\\Users\\yangh\\OneDrive\\바탕 화면\\대학자료\\2021-1\\컴퓨터언어\\klas capture.png because file is missing, has improper permissions, or is an unsupported or invalid format",
     "traceback": [
      "\u001b[1;31m---------------------------------------------------------------------------\u001b[0m",
      "\u001b[1;31mOSError\u001b[0m                                   Traceback (most recent call last)",
      "\u001b[1;32m<ipython-input-15-231d5a5f6ed9>\u001b[0m in \u001b[0;36m<module>\u001b[1;34m\u001b[0m\n\u001b[1;32m----> 1\u001b[1;33m \u001b[0mi\u001b[0m \u001b[1;33m=\u001b[0m \u001b[0mpyautogui\u001b[0m\u001b[1;33m.\u001b[0m\u001b[0mlocateOnScreen\u001b[0m\u001b[1;33m(\u001b[0m\u001b[1;34mr'C:\\Users\\yangh\\OneDrive\\바탕 화면\\대학자료\\2021-1\\컴퓨터언어\\klas capture.png'\u001b[0m\u001b[1;33m)\u001b[0m\u001b[1;33m\u001b[0m\u001b[1;33m\u001b[0m\u001b[0m\n\u001b[0m\u001b[0;32m      2\u001b[0m \u001b[0mprint\u001b[0m\u001b[1;33m(\u001b[0m\u001b[0mi\u001b[0m\u001b[1;33m)\u001b[0m\u001b[1;33m\u001b[0m\u001b[1;33m\u001b[0m\u001b[0m\n",
      "\u001b[1;32m~\\Anaconda3\\lib\\site-packages\\pyautogui\\__init__.py\u001b[0m in \u001b[0;36mwrapper\u001b[1;34m(*args, **kwargs)\u001b[0m\n\u001b[0;32m    173\u001b[0m     \u001b[1;32mdef\u001b[0m \u001b[0mwrapper\u001b[0m\u001b[1;33m(\u001b[0m\u001b[1;33m*\u001b[0m\u001b[0margs\u001b[0m\u001b[1;33m,\u001b[0m \u001b[1;33m**\u001b[0m\u001b[0mkwargs\u001b[0m\u001b[1;33m)\u001b[0m\u001b[1;33m:\u001b[0m\u001b[1;33m\u001b[0m\u001b[1;33m\u001b[0m\u001b[0m\n\u001b[0;32m    174\u001b[0m         \u001b[1;32mtry\u001b[0m\u001b[1;33m:\u001b[0m\u001b[1;33m\u001b[0m\u001b[1;33m\u001b[0m\u001b[0m\n\u001b[1;32m--> 175\u001b[1;33m             \u001b[1;32mreturn\u001b[0m \u001b[0mwrappedFunction\u001b[0m\u001b[1;33m(\u001b[0m\u001b[1;33m*\u001b[0m\u001b[0margs\u001b[0m\u001b[1;33m,\u001b[0m \u001b[1;33m**\u001b[0m\u001b[0mkwargs\u001b[0m\u001b[1;33m)\u001b[0m\u001b[1;33m\u001b[0m\u001b[1;33m\u001b[0m\u001b[0m\n\u001b[0m\u001b[0;32m    176\u001b[0m         \u001b[1;32mexcept\u001b[0m \u001b[0mpyscreeze\u001b[0m\u001b[1;33m.\u001b[0m\u001b[0mImageNotFoundException\u001b[0m\u001b[1;33m:\u001b[0m\u001b[1;33m\u001b[0m\u001b[1;33m\u001b[0m\u001b[0m\n\u001b[0;32m    177\u001b[0m             \u001b[1;32mraise\u001b[0m \u001b[0mImageNotFoundException\u001b[0m  \u001b[1;31m# Raise PyAutoGUI's ImageNotFoundException.\u001b[0m\u001b[1;33m\u001b[0m\u001b[1;33m\u001b[0m\u001b[0m\n",
      "\u001b[1;32m~\\Anaconda3\\lib\\site-packages\\pyautogui\\__init__.py\u001b[0m in \u001b[0;36mlocateOnScreen\u001b[1;34m(*args, **kwargs)\u001b[0m\n\u001b[0;32m    211\u001b[0m     \u001b[1;33m@\u001b[0m\u001b[0mraisePyAutoGUIImageNotFoundException\u001b[0m\u001b[1;33m\u001b[0m\u001b[1;33m\u001b[0m\u001b[0m\n\u001b[0;32m    212\u001b[0m     \u001b[1;32mdef\u001b[0m \u001b[0mlocateOnScreen\u001b[0m\u001b[1;33m(\u001b[0m\u001b[1;33m*\u001b[0m\u001b[0margs\u001b[0m\u001b[1;33m,\u001b[0m \u001b[1;33m**\u001b[0m\u001b[0mkwargs\u001b[0m\u001b[1;33m)\u001b[0m\u001b[1;33m:\u001b[0m\u001b[1;33m\u001b[0m\u001b[1;33m\u001b[0m\u001b[0m\n\u001b[1;32m--> 213\u001b[1;33m         \u001b[1;32mreturn\u001b[0m \u001b[0mpyscreeze\u001b[0m\u001b[1;33m.\u001b[0m\u001b[0mlocateOnScreen\u001b[0m\u001b[1;33m(\u001b[0m\u001b[1;33m*\u001b[0m\u001b[0margs\u001b[0m\u001b[1;33m,\u001b[0m \u001b[1;33m**\u001b[0m\u001b[0mkwargs\u001b[0m\u001b[1;33m)\u001b[0m\u001b[1;33m\u001b[0m\u001b[1;33m\u001b[0m\u001b[0m\n\u001b[0m\u001b[0;32m    214\u001b[0m \u001b[1;33m\u001b[0m\u001b[0m\n\u001b[0;32m    215\u001b[0m     \u001b[0mlocateOnScreen\u001b[0m\u001b[1;33m.\u001b[0m\u001b[0m__doc__\u001b[0m \u001b[1;33m=\u001b[0m \u001b[0mpyscreeze\u001b[0m\u001b[1;33m.\u001b[0m\u001b[0mlocateOnScreen\u001b[0m\u001b[1;33m.\u001b[0m\u001b[0m__doc__\u001b[0m\u001b[1;33m\u001b[0m\u001b[1;33m\u001b[0m\u001b[0m\n",
      "\u001b[1;32m~\\Anaconda3\\lib\\site-packages\\pyscreeze\\__init__.py\u001b[0m in \u001b[0;36mlocateOnScreen\u001b[1;34m(image, minSearchTime, **kwargs)\u001b[0m\n\u001b[0;32m    358\u001b[0m         \u001b[1;32mtry\u001b[0m\u001b[1;33m:\u001b[0m\u001b[1;33m\u001b[0m\u001b[1;33m\u001b[0m\u001b[0m\n\u001b[0;32m    359\u001b[0m             \u001b[0mscreenshotIm\u001b[0m \u001b[1;33m=\u001b[0m \u001b[0mscreenshot\u001b[0m\u001b[1;33m(\u001b[0m\u001b[0mregion\u001b[0m\u001b[1;33m=\u001b[0m\u001b[1;32mNone\u001b[0m\u001b[1;33m)\u001b[0m \u001b[1;31m# the locateAll() function must handle cropping to return accurate coordinates, so don't pass a region here.\u001b[0m\u001b[1;33m\u001b[0m\u001b[1;33m\u001b[0m\u001b[0m\n\u001b[1;32m--> 360\u001b[1;33m             \u001b[0mretVal\u001b[0m \u001b[1;33m=\u001b[0m \u001b[0mlocate\u001b[0m\u001b[1;33m(\u001b[0m\u001b[0mimage\u001b[0m\u001b[1;33m,\u001b[0m \u001b[0mscreenshotIm\u001b[0m\u001b[1;33m,\u001b[0m \u001b[1;33m**\u001b[0m\u001b[0mkwargs\u001b[0m\u001b[1;33m)\u001b[0m\u001b[1;33m\u001b[0m\u001b[1;33m\u001b[0m\u001b[0m\n\u001b[0m\u001b[0;32m    361\u001b[0m             \u001b[1;32mtry\u001b[0m\u001b[1;33m:\u001b[0m\u001b[1;33m\u001b[0m\u001b[1;33m\u001b[0m\u001b[0m\n\u001b[0;32m    362\u001b[0m                 \u001b[0mscreenshotIm\u001b[0m\u001b[1;33m.\u001b[0m\u001b[0mfp\u001b[0m\u001b[1;33m.\u001b[0m\u001b[0mclose\u001b[0m\u001b[1;33m(\u001b[0m\u001b[1;33m)\u001b[0m\u001b[1;33m\u001b[0m\u001b[1;33m\u001b[0m\u001b[0m\n",
      "\u001b[1;32m~\\Anaconda3\\lib\\site-packages\\pyscreeze\\__init__.py\u001b[0m in \u001b[0;36mlocate\u001b[1;34m(needleImage, haystackImage, **kwargs)\u001b[0m\n\u001b[0;32m    338\u001b[0m     \u001b[1;31m# Note: The gymnastics in this function is because we want to make sure to exhaust the iterator so that the needle and haystack files are closed in locateAll.\u001b[0m\u001b[1;33m\u001b[0m\u001b[1;33m\u001b[0m\u001b[1;33m\u001b[0m\u001b[0m\n\u001b[0;32m    339\u001b[0m     \u001b[0mkwargs\u001b[0m\u001b[1;33m[\u001b[0m\u001b[1;34m'limit'\u001b[0m\u001b[1;33m]\u001b[0m \u001b[1;33m=\u001b[0m \u001b[1;36m1\u001b[0m\u001b[1;33m\u001b[0m\u001b[1;33m\u001b[0m\u001b[0m\n\u001b[1;32m--> 340\u001b[1;33m     \u001b[0mpoints\u001b[0m \u001b[1;33m=\u001b[0m \u001b[0mtuple\u001b[0m\u001b[1;33m(\u001b[0m\u001b[0mlocateAll\u001b[0m\u001b[1;33m(\u001b[0m\u001b[0mneedleImage\u001b[0m\u001b[1;33m,\u001b[0m \u001b[0mhaystackImage\u001b[0m\u001b[1;33m,\u001b[0m \u001b[1;33m**\u001b[0m\u001b[0mkwargs\u001b[0m\u001b[1;33m)\u001b[0m\u001b[1;33m)\u001b[0m\u001b[1;33m\u001b[0m\u001b[1;33m\u001b[0m\u001b[0m\n\u001b[0m\u001b[0;32m    341\u001b[0m     \u001b[1;32mif\u001b[0m \u001b[0mlen\u001b[0m\u001b[1;33m(\u001b[0m\u001b[0mpoints\u001b[0m\u001b[1;33m)\u001b[0m \u001b[1;33m>\u001b[0m \u001b[1;36m0\u001b[0m\u001b[1;33m:\u001b[0m\u001b[1;33m\u001b[0m\u001b[1;33m\u001b[0m\u001b[0m\n\u001b[0;32m    342\u001b[0m         \u001b[1;32mreturn\u001b[0m \u001b[0mpoints\u001b[0m\u001b[1;33m[\u001b[0m\u001b[1;36m0\u001b[0m\u001b[1;33m]\u001b[0m\u001b[1;33m\u001b[0m\u001b[1;33m\u001b[0m\u001b[0m\n",
      "\u001b[1;32m~\\Anaconda3\\lib\\site-packages\\pyscreeze\\__init__.py\u001b[0m in \u001b[0;36m_locateAll_opencv\u001b[1;34m(needleImage, haystackImage, grayscale, limit, region, step, confidence)\u001b[0m\n\u001b[0;32m    195\u001b[0m     \u001b[0mconfidence\u001b[0m \u001b[1;33m=\u001b[0m \u001b[0mfloat\u001b[0m\u001b[1;33m(\u001b[0m\u001b[0mconfidence\u001b[0m\u001b[1;33m)\u001b[0m\u001b[1;33m\u001b[0m\u001b[1;33m\u001b[0m\u001b[0m\n\u001b[0;32m    196\u001b[0m \u001b[1;33m\u001b[0m\u001b[0m\n\u001b[1;32m--> 197\u001b[1;33m     \u001b[0mneedleImage\u001b[0m \u001b[1;33m=\u001b[0m \u001b[0m_load_cv2\u001b[0m\u001b[1;33m(\u001b[0m\u001b[0mneedleImage\u001b[0m\u001b[1;33m,\u001b[0m \u001b[0mgrayscale\u001b[0m\u001b[1;33m)\u001b[0m\u001b[1;33m\u001b[0m\u001b[1;33m\u001b[0m\u001b[0m\n\u001b[0m\u001b[0;32m    198\u001b[0m     \u001b[0mneedleHeight\u001b[0m\u001b[1;33m,\u001b[0m \u001b[0mneedleWidth\u001b[0m \u001b[1;33m=\u001b[0m \u001b[0mneedleImage\u001b[0m\u001b[1;33m.\u001b[0m\u001b[0mshape\u001b[0m\u001b[1;33m[\u001b[0m\u001b[1;33m:\u001b[0m\u001b[1;36m2\u001b[0m\u001b[1;33m]\u001b[0m\u001b[1;33m\u001b[0m\u001b[1;33m\u001b[0m\u001b[0m\n\u001b[0;32m    199\u001b[0m     \u001b[0mhaystackImage\u001b[0m \u001b[1;33m=\u001b[0m \u001b[0m_load_cv2\u001b[0m\u001b[1;33m(\u001b[0m\u001b[0mhaystackImage\u001b[0m\u001b[1;33m,\u001b[0m \u001b[0mgrayscale\u001b[0m\u001b[1;33m)\u001b[0m\u001b[1;33m\u001b[0m\u001b[1;33m\u001b[0m\u001b[0m\n",
      "\u001b[1;32m~\\Anaconda3\\lib\\site-packages\\pyscreeze\\__init__.py\u001b[0m in \u001b[0;36m_load_cv2\u001b[1;34m(img, grayscale)\u001b[0m\n\u001b[0;32m    158\u001b[0m             \u001b[0mimg_cv\u001b[0m \u001b[1;33m=\u001b[0m \u001b[0mcv2\u001b[0m\u001b[1;33m.\u001b[0m\u001b[0mimread\u001b[0m\u001b[1;33m(\u001b[0m\u001b[0mimg\u001b[0m\u001b[1;33m,\u001b[0m \u001b[0mLOAD_COLOR\u001b[0m\u001b[1;33m)\u001b[0m\u001b[1;33m\u001b[0m\u001b[1;33m\u001b[0m\u001b[0m\n\u001b[0;32m    159\u001b[0m         \u001b[1;32mif\u001b[0m \u001b[0mimg_cv\u001b[0m \u001b[1;32mis\u001b[0m \u001b[1;32mNone\u001b[0m\u001b[1;33m:\u001b[0m\u001b[1;33m\u001b[0m\u001b[1;33m\u001b[0m\u001b[0m\n\u001b[1;32m--> 160\u001b[1;33m             raise IOError(\"Failed to read %s because file is missing, \"\n\u001b[0m\u001b[0;32m    161\u001b[0m                           \u001b[1;34m\"has improper permissions, or is an \"\u001b[0m\u001b[1;33m\u001b[0m\u001b[1;33m\u001b[0m\u001b[0m\n\u001b[0;32m    162\u001b[0m                           \"unsupported or invalid format\" % img)\n",
      "\u001b[1;31mOSError\u001b[0m: Failed to read C:\\Users\\yangh\\OneDrive\\바탕 화면\\대학자료\\2021-1\\컴퓨터언어\\klas capture.png because file is missing, has improper permissions, or is an unsupported or invalid format"
     ]
    }
   ],
   "source": [
    "i = pyautogui.locateOnScreen(r'C:\\Users\\yangh\\OneDrive\\바탕 화면\\대학자료\\2021-1\\컴퓨터언어\\klas capture.png')\n",
    "print(i)"
   ]
  },
  {
   "cell_type": "code",
   "execution_count": 85,
   "metadata": {},
   "outputs": [
    {
     "output_type": "execute_result",
     "data": {
      "text/plain": [
       "Point(x=1395, y=614)"
      ]
     },
     "metadata": {},
     "execution_count": 85
    }
   ],
   "source": [
    "pyautogui.position()"
   ]
  },
  {
   "cell_type": "code",
   "execution_count": 91,
   "metadata": {},
   "outputs": [
    {
     "output_type": "execute_result",
     "data": {
      "text/plain": [
       "<PIL.Image.Image image mode=RGB size=50x22 at 0x21696B47D00>"
      ],
      "image/png": "[encoded data removed]"
     },
     "metadata": {},
     "execution_count": 91
    }
   ],
   "source": [
    "pyautogui.screenshot('see.png',region=(1395,614,50,22))"
   ]
  },
  {
   "cell_type": "code",
   "execution_count": 118,
   "metadata": {},
   "outputs": [
    {
     "output_type": "stream",
     "name": "stdout",
     "text": [
      "Box(left=1395, top=725, width=50, height=22)\n1395 725\n"
     ]
    }
   ],
   "source": [
    "a= list(pyautogui.locateAllOnScreen('see.png'))\n",
    "#print(a)\n",
    "watch_lecture = a[-1]\n",
    "print(watch_lecture)\n",
    "x,y = watch_lecture[0:2]\n",
    "print(x,y)\n",
    "movepoint(x,y)"
   ]
  },
  {
   "cell_type": "code",
   "execution_count": null,
   "metadata": {},
   "outputs": [],
   "source": [
    "list(pyautogui.locateAllOnScreen(r'C:\\Users\\yangh\\OneDrive\\바탕 화면\\대학자료\\2021-1\\컴퓨터언어\\klas capture.PNG'))\n",
    "x, y = list(pyautogui.locateAllOnScreen(r'C:\\Users\\yangh\\OneDrive\\바탕 화면\\대학자료\\2021-1\\컴퓨터언어\\klas capture.PNG'))\n",
    "pyautogui.click(x,y)"
   ]
  }
 ]
}