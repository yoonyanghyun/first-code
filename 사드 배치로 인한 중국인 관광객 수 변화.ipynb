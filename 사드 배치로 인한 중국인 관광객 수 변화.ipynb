{
 "metadata": {
  "language_info": {
   "codemirror_mode": {
    "name": "ipython",
    "version": 3
   },
   "file_extension": ".py",
   "mimetype": "text/x-python",
   "name": "python",
   "nbconvert_exporter": "python",
   "pygments_lexer": "ipython3",
   "version": "3.8.5-final"
  },
  "orig_nbformat": 2,
  "kernelspec": {
   "name": "python3",
   "display_name": "Python 3",
   "language": "python"
  }
 },
 "nbformat": 4,
 "nbformat_minor": 2,
 "cells": [
  {
   "cell_type": "code",
   "execution_count": 2,
   "metadata": {},
   "outputs": [],
   "source": [
    "#사드 배치의 영향으로 중국인 관광객이 얼마나 줄었을까?"
   ]
  },
  {
   "cell_type": "code",
   "execution_count": 9,
   "metadata": {},
   "outputs": [
    {
     "output_type": "execute_result",
     "data": {
      "text/plain": [
       "     국적      관광     상용    공용  유학/연수      기타       계\n",
       "0  아시아주  765082  10837  1423  14087  125521  916950\n",
       "1    일본  198805   2233   127    785    4576  206526\n",
       "2    대만   86393     74    22    180    1285   87954\n",
       "3    홍콩   34653     59     2     90    1092   35896\n",
       "4   마카오    2506      2     0     17      45    2570"
      ],
      "text/html": "<div>\n<style scoped>\n    .dataframe tbody tr th:only-of-type {\n        vertical-align: middle;\n    }\n\n    .dataframe tbody tr th {\n        vertical-align: top;\n    }\n\n    .dataframe thead th {\n        text-align: right;\n    }\n</style>\n<table border=\"1\" class=\"dataframe\">\n  <thead>\n    <tr style=\"text-align: right;\">\n      <th></th>\n      <th>국적</th>\n      <th>관광</th>\n      <th>상용</th>\n      <th>공용</th>\n      <th>유학/연수</th>\n      <th>기타</th>\n      <th>계</th>\n    </tr>\n  </thead>\n  <tbody>\n    <tr>\n      <th>0</th>\n      <td>아시아주</td>\n      <td>765082</td>\n      <td>10837</td>\n      <td>1423</td>\n      <td>14087</td>\n      <td>125521</td>\n      <td>916950</td>\n    </tr>\n    <tr>\n      <th>1</th>\n      <td>일본</td>\n      <td>198805</td>\n      <td>2233</td>\n      <td>127</td>\n      <td>785</td>\n      <td>4576</td>\n      <td>206526</td>\n    </tr>\n    <tr>\n      <th>2</th>\n      <td>대만</td>\n      <td>86393</td>\n      <td>74</td>\n      <td>22</td>\n      <td>180</td>\n      <td>1285</td>\n      <td>87954</td>\n    </tr>\n    <tr>\n      <th>3</th>\n      <td>홍콩</td>\n      <td>34653</td>\n      <td>59</td>\n      <td>2</td>\n      <td>90</td>\n      <td>1092</td>\n      <td>35896</td>\n    </tr>\n    <tr>\n      <th>4</th>\n      <td>마카오</td>\n      <td>2506</td>\n      <td>2</td>\n      <td>0</td>\n      <td>17</td>\n      <td>45</td>\n      <td>2570</td>\n    </tr>\n  </tbody>\n</table>\n</div>"
     },
     "metadata": {},
     "execution_count": 9
    }
   ],
   "source": [
    "#외국인 출입국 통계 데이터 구하기 - 한국관광공사에 나온 기초 자료를 토대로 활용\n",
    "#https://kto.visitkorea.or.kr/kor/notice/data/statis/profit/notice/inout/popup.kto 에서 19년 1월 기준으로 가져옴\n",
    "\n",
    "import pandas as pd #pandas 라이브러리 불러오기\n",
    "kto_201901 = pd.read_excel(r'C:\\Users\\82104\\Desktop\\프로그래밍\\파이썬 자료\\kto_201901.xlsx', \n",
    "# \\로 구성된 자료주소는 r을 앞에 붙여서 자료를 가져올 것\n",
    "                            header = 1, # 두 번째 줄에 있는 것을 변수명으로 가져온다. \n",
    "                            usecols = 'A:G', # 전년동기, 성장률, 구성비를 제외한 값들을 가져오기\n",
    "                            skipfooter = 4 # 맨 아래 4줄은 생략\n",
    "                            )\n",
    "kto_201901.head()"
   ]
  },
  {
   "cell_type": "code",
   "execution_count": 11,
   "metadata": {},
   "outputs": [
    {
     "output_type": "execute_result",
     "data": {
      "text/plain": [
       "         국적   관광   상용  공용  유학/연수     기타      계\n",
       "62  아프리카 기타  768  718  90    206    908   2690\n",
       "63     기타대륙   33    4   0      1     16     54\n",
       "64     국적미상   33    4   0      1     16     54\n",
       "65     교포소계    0    0   0      0  15526  15526\n",
       "66       교포    0    0   0      0  15526  15526"
      ],
      "text/html": "<div>\n<style scoped>\n    .dataframe tbody tr th:only-of-type {\n        vertical-align: middle;\n    }\n\n    .dataframe tbody tr th {\n        vertical-align: top;\n    }\n\n    .dataframe thead th {\n        text-align: right;\n    }\n</style>\n<table border=\"1\" class=\"dataframe\">\n  <thead>\n    <tr style=\"text-align: right;\">\n      <th></th>\n      <th>국적</th>\n      <th>관광</th>\n      <th>상용</th>\n      <th>공용</th>\n      <th>유학/연수</th>\n      <th>기타</th>\n      <th>계</th>\n    </tr>\n  </thead>\n  <tbody>\n    <tr>\n      <th>62</th>\n      <td>아프리카 기타</td>\n      <td>768</td>\n      <td>718</td>\n      <td>90</td>\n      <td>206</td>\n      <td>908</td>\n      <td>2690</td>\n    </tr>\n    <tr>\n      <th>63</th>\n      <td>기타대륙</td>\n      <td>33</td>\n      <td>4</td>\n      <td>0</td>\n      <td>1</td>\n      <td>16</td>\n      <td>54</td>\n    </tr>\n    <tr>\n      <th>64</th>\n      <td>국적미상</td>\n      <td>33</td>\n      <td>4</td>\n      <td>0</td>\n      <td>1</td>\n      <td>16</td>\n      <td>54</td>\n    </tr>\n    <tr>\n      <th>65</th>\n      <td>교포소계</td>\n      <td>0</td>\n      <td>0</td>\n      <td>0</td>\n      <td>0</td>\n      <td>15526</td>\n      <td>15526</td>\n    </tr>\n    <tr>\n      <th>66</th>\n      <td>교포</td>\n      <td>0</td>\n      <td>0</td>\n      <td>0</td>\n      <td>0</td>\n      <td>15526</td>\n      <td>15526</td>\n    </tr>\n  </tbody>\n</table>\n</div>"
     },
     "metadata": {},
     "execution_count": 11
    }
   ],
   "source": [
    "kto_201901.tail()"
   ]
  },
  {
   "cell_type": "code",
   "execution_count": 13,
   "metadata": {},
   "outputs": [
    {
     "output_type": "stream",
     "name": "stdout",
     "text": [
      "<class 'pandas.core.frame.DataFrame'>\nRangeIndex: 67 entries, 0 to 66\nData columns (total 7 columns):\n #   Column  Non-Null Count  Dtype \n---  ------  --------------  ----- \n 0   국적      67 non-null     object\n 1   관광      67 non-null     int64 \n 2   상용      67 non-null     int64 \n 3   공용      67 non-null     int64 \n 4   유학/연수   67 non-null     int64 \n 5   기타      67 non-null     int64 \n 6   계       67 non-null     int64 \ndtypes: int64(6), object(1)\nmemory usage: 3.8+ KB\n"
     ]
    }
   ],
   "source": [
    "# 데이터 전처리 하기 = 데이터를 탐색하고, 분석에 적합한 과정으로 만들기 == 데이터 가공, 데이터 클렌징, 데이터 핸들링과 같은 의미\n",
    "# 데이터 변수별로 이상이 있는가? 결측값 처리, 이상치 처리, 변수 정규화, 파생변수 생성\n",
    "\n",
    "# 정보 보기 R에서는 str()로 표현\n",
    "kto_201901.info()"
   ]
  },
  {
   "cell_type": "code",
   "execution_count": 14,
   "metadata": {},
   "outputs": [
    {
     "output_type": "execute_result",
     "data": {
      "text/plain": [
       "                 관광            상용           공용         유학/연수             기타  \\\n",
       "count      67.00000     67.000000    67.000000     67.000000      67.000000   \n",
       "mean    26396.80597    408.208955   132.507463    477.462687    5564.208955   \n",
       "std    102954.04969   1416.040302   474.406339   2009.484800   17209.438418   \n",
       "min         0.00000      0.000000     0.000000      0.000000      16.000000   \n",
       "25%       505.00000     14.500000     2.500000     17.500000     260.000000   \n",
       "50%      1304.00000     45.000000    14.000000     43.000000     912.000000   \n",
       "75%      8365.00000    176.500000    38.000000    182.000000    2824.500000   \n",
       "max    765082.00000  10837.000000  2657.000000  14087.000000  125521.000000   \n",
       "\n",
       "                   계  \n",
       "count      67.000000  \n",
       "mean    32979.194030  \n",
       "std    122821.369969  \n",
       "min        54.000000  \n",
       "25%       927.000000  \n",
       "50%      2695.000000  \n",
       "75%     14905.500000  \n",
       "max    916950.000000  "
      ],
      "text/html": "<div>\n<style scoped>\n    .dataframe tbody tr th:only-of-type {\n        vertical-align: middle;\n    }\n\n    .dataframe tbody tr th {\n        vertical-align: top;\n    }\n\n    .dataframe thead th {\n        text-align: right;\n    }\n</style>\n<table border=\"1\" class=\"dataframe\">\n  <thead>\n    <tr style=\"text-align: right;\">\n      <th></th>\n      <th>관광</th>\n      <th>상용</th>\n      <th>공용</th>\n      <th>유학/연수</th>\n      <th>기타</th>\n      <th>계</th>\n    </tr>\n  </thead>\n  <tbody>\n    <tr>\n      <th>count</th>\n      <td>67.00000</td>\n      <td>67.000000</td>\n      <td>67.000000</td>\n      <td>67.000000</td>\n      <td>67.000000</td>\n      <td>67.000000</td>\n    </tr>\n    <tr>\n      <th>mean</th>\n      <td>26396.80597</td>\n      <td>408.208955</td>\n      <td>132.507463</td>\n      <td>477.462687</td>\n      <td>5564.208955</td>\n      <td>32979.194030</td>\n    </tr>\n    <tr>\n      <th>std</th>\n      <td>102954.04969</td>\n      <td>1416.040302</td>\n      <td>474.406339</td>\n      <td>2009.484800</td>\n      <td>17209.438418</td>\n      <td>122821.369969</td>\n    </tr>\n    <tr>\n      <th>min</th>\n      <td>0.00000</td>\n      <td>0.000000</td>\n      <td>0.000000</td>\n      <td>0.000000</td>\n      <td>16.000000</td>\n      <td>54.000000</td>\n    </tr>\n    <tr>\n      <th>25%</th>\n      <td>505.00000</td>\n      <td>14.500000</td>\n      <td>2.500000</td>\n      <td>17.500000</td>\n      <td>260.000000</td>\n      <td>927.000000</td>\n    </tr>\n    <tr>\n      <th>50%</th>\n      <td>1304.00000</td>\n      <td>45.000000</td>\n      <td>14.000000</td>\n      <td>43.000000</td>\n      <td>912.000000</td>\n      <td>2695.000000</td>\n    </tr>\n    <tr>\n      <th>75%</th>\n      <td>8365.00000</td>\n      <td>176.500000</td>\n      <td>38.000000</td>\n      <td>182.000000</td>\n      <td>2824.500000</td>\n      <td>14905.500000</td>\n    </tr>\n    <tr>\n      <th>max</th>\n      <td>765082.00000</td>\n      <td>10837.000000</td>\n      <td>2657.000000</td>\n      <td>14087.000000</td>\n      <td>125521.000000</td>\n      <td>916950.000000</td>\n    </tr>\n  </tbody>\n</table>\n</div>"
     },
     "metadata": {},
     "execution_count": 14
    }
   ],
   "source": [
    "#describe() 함수 - R에서 summary 함수와 비슷한 역할\n",
    "kto_201901.describe()"
   ]
  },
  {
   "cell_type": "code",
   "execution_count": 35,
   "metadata": {},
   "outputs": [
    {
     "output_type": "stream",
     "name": "stdout",
     "text": [
      "조건 필터 연산자는 == 으로 표현 \n"
     ]
    },
    {
     "output_type": "execute_result",
     "data": {
      "text/plain": [
       "        국적     관광   상용  공용  유학/연수     기타      계\n",
       "4      마카오  86393    2   0     17     45   2570\n",
       "20    이스라엘  86393   12   0      9     57    805\n",
       "22  우즈베키스탄  86393  561   0    407   2828   5754\n",
       "38     스위스  86393   18   0     19     97    747\n",
       "45     그리스  86393   17   4      0    273    775\n",
       "46    포르투갈  86393   14   0     13    121    564\n",
       "51   크로아티아  86393   12   0      3    250    491\n",
       "54     폴란드  86393   10   0     27    574   1324\n",
       "59  대양주 기타  86393    3   4      0     52    614\n",
       "63    기타대륙  86393    4   0      1     16     54\n",
       "64    국적미상  86393    4   0      1     16     54\n",
       "65    교포소계  86393    0   0      0  15526  15526\n",
       "66      교포  86393    0   0      0  15526  15526"
      ],
      "text/html": "<div>\n<style scoped>\n    .dataframe tbody tr th:only-of-type {\n        vertical-align: middle;\n    }\n\n    .dataframe tbody tr th {\n        vertical-align: top;\n    }\n\n    .dataframe thead th {\n        text-align: right;\n    }\n</style>\n<table border=\"1\" class=\"dataframe\">\n  <thead>\n    <tr style=\"text-align: right;\">\n      <th></th>\n      <th>국적</th>\n      <th>관광</th>\n      <th>상용</th>\n      <th>공용</th>\n      <th>유학/연수</th>\n      <th>기타</th>\n      <th>계</th>\n    </tr>\n  </thead>\n  <tbody>\n    <tr>\n      <th>4</th>\n      <td>마카오</td>\n      <td>86393</td>\n      <td>2</td>\n      <td>0</td>\n      <td>17</td>\n      <td>45</td>\n      <td>2570</td>\n    </tr>\n    <tr>\n      <th>20</th>\n      <td>이스라엘</td>\n      <td>86393</td>\n      <td>12</td>\n      <td>0</td>\n      <td>9</td>\n      <td>57</td>\n      <td>805</td>\n    </tr>\n    <tr>\n      <th>22</th>\n      <td>우즈베키스탄</td>\n      <td>86393</td>\n      <td>561</td>\n      <td>0</td>\n      <td>407</td>\n      <td>2828</td>\n      <td>5754</td>\n    </tr>\n    <tr>\n      <th>38</th>\n      <td>스위스</td>\n      <td>86393</td>\n      <td>18</td>\n      <td>0</td>\n      <td>19</td>\n      <td>97</td>\n      <td>747</td>\n    </tr>\n    <tr>\n      <th>45</th>\n      <td>그리스</td>\n      <td>86393</td>\n      <td>17</td>\n      <td>4</td>\n      <td>0</td>\n      <td>273</td>\n      <td>775</td>\n    </tr>\n    <tr>\n      <th>46</th>\n      <td>포르투갈</td>\n      <td>86393</td>\n      <td>14</td>\n      <td>0</td>\n      <td>13</td>\n      <td>121</td>\n      <td>564</td>\n    </tr>\n    <tr>\n      <th>51</th>\n      <td>크로아티아</td>\n      <td>86393</td>\n      <td>12</td>\n      <td>0</td>\n      <td>3</td>\n      <td>250</td>\n      <td>491</td>\n    </tr>\n    <tr>\n      <th>54</th>\n      <td>폴란드</td>\n      <td>86393</td>\n      <td>10</td>\n      <td>0</td>\n      <td>27</td>\n      <td>574</td>\n      <td>1324</td>\n    </tr>\n    <tr>\n      <th>59</th>\n      <td>대양주 기타</td>\n      <td>86393</td>\n      <td>3</td>\n      <td>4</td>\n      <td>0</td>\n      <td>52</td>\n      <td>614</td>\n    </tr>\n    <tr>\n      <th>63</th>\n      <td>기타대륙</td>\n      <td>86393</td>\n      <td>4</td>\n      <td>0</td>\n      <td>1</td>\n      <td>16</td>\n      <td>54</td>\n    </tr>\n    <tr>\n      <th>64</th>\n      <td>국적미상</td>\n      <td>86393</td>\n      <td>4</td>\n      <td>0</td>\n      <td>1</td>\n      <td>16</td>\n      <td>54</td>\n    </tr>\n    <tr>\n      <th>65</th>\n      <td>교포소계</td>\n      <td>86393</td>\n      <td>0</td>\n      <td>0</td>\n      <td>0</td>\n      <td>15526</td>\n      <td>15526</td>\n    </tr>\n    <tr>\n      <th>66</th>\n      <td>교포</td>\n      <td>86393</td>\n      <td>0</td>\n      <td>0</td>\n      <td>0</td>\n      <td>15526</td>\n      <td>15526</td>\n    </tr>\n  </tbody>\n</table>\n</div>"
     },
     "metadata": {},
     "execution_count": 35
    }
   ],
   "source": [
    "# 0으로 입력된 데이터는 무엇이 있는가? \n",
    "print(\"조건 필터 연산자는 == 으로 표현 \")\n",
    "condition = (kto_201901['상용'] == 0)  \\\n",
    "            | (kto_201901['관광'] == 0) \\\n",
    "            | (kto_201901['공용'] == 0) \\\n",
    "            | (kto_201901['유학/연수'] == 0) \n",
    "kto_201901[condition]\n"
   ]
  },
  {
   "cell_type": "code",
   "execution_count": 42,
   "metadata": {},
   "outputs": [
    {
     "output_type": "execute_result",
     "data": {
      "text/plain": [
       "     국적     관광     상용    공용  유학/연수      기타       계     기준년월\n",
       "0  아시아주  86393  10837  1423  14087  125521  916950  2019-01\n",
       "1    일본  86393   2233   127    785    4576  206526  2019-01\n",
       "2    대만  86393     74    22    180    1285   87954  2019-01\n",
       "3    홍콩  86393     59     2     90    1092   35896  2019-01\n",
       "4   마카오  86393      2     0     17      45    2570  2019-01"
      ],
      "text/html": "<div>\n<style scoped>\n    .dataframe tbody tr th:only-of-type {\n        vertical-align: middle;\n    }\n\n    .dataframe tbody tr th {\n        vertical-align: top;\n    }\n\n    .dataframe thead th {\n        text-align: right;\n    }\n</style>\n<table border=\"1\" class=\"dataframe\">\n  <thead>\n    <tr style=\"text-align: right;\">\n      <th></th>\n      <th>국적</th>\n      <th>관광</th>\n      <th>상용</th>\n      <th>공용</th>\n      <th>유학/연수</th>\n      <th>기타</th>\n      <th>계</th>\n      <th>기준년월</th>\n    </tr>\n  </thead>\n  <tbody>\n    <tr>\n      <th>0</th>\n      <td>아시아주</td>\n      <td>86393</td>\n      <td>10837</td>\n      <td>1423</td>\n      <td>14087</td>\n      <td>125521</td>\n      <td>916950</td>\n      <td>2019-01</td>\n    </tr>\n    <tr>\n      <th>1</th>\n      <td>일본</td>\n      <td>86393</td>\n      <td>2233</td>\n      <td>127</td>\n      <td>785</td>\n      <td>4576</td>\n      <td>206526</td>\n      <td>2019-01</td>\n    </tr>\n    <tr>\n      <th>2</th>\n      <td>대만</td>\n      <td>86393</td>\n      <td>74</td>\n      <td>22</td>\n      <td>180</td>\n      <td>1285</td>\n      <td>87954</td>\n      <td>2019-01</td>\n    </tr>\n    <tr>\n      <th>3</th>\n      <td>홍콩</td>\n      <td>86393</td>\n      <td>59</td>\n      <td>2</td>\n      <td>90</td>\n      <td>1092</td>\n      <td>35896</td>\n      <td>2019-01</td>\n    </tr>\n    <tr>\n      <th>4</th>\n      <td>마카오</td>\n      <td>86393</td>\n      <td>2</td>\n      <td>0</td>\n      <td>17</td>\n      <td>45</td>\n      <td>2570</td>\n      <td>2019-01</td>\n    </tr>\n  </tbody>\n</table>\n</div>"
     },
     "metadata": {},
     "execution_count": 42
    }
   ],
   "source": [
    "#기준년월 칼럼 생성\n",
    "kto_201901['기준년월'] = '2019-01'\n",
    "kto_201901.head()"
   ]
  },
  {
   "cell_type": "code",
   "execution_count": 44,
   "metadata": {},
   "outputs": [
    {
     "output_type": "execute_result",
     "data": {
      "text/plain": [
       "array(['아시아주', '일본', '대만', '홍콩', '마카오', '태국', '말레이시아', '필리핀', '인도네시아',\n",
       "       '싱가포르', '미얀마', '베트남', '인도', '스리랑카', '파키스탄', '방글라데시', '캄보디아', '몽골',\n",
       "       '중국', '이란', '이스라엘', '터키', '우즈베키스탄', '카자흐스탄', 'GCC', '아시아 기타', '미주',\n",
       "       '미국', '캐나다', '멕시코', '브라질', '미주 기타', '구주', '영국', '독일', '프랑스',\n",
       "       '네덜란드', '스웨덴', '스위스', '이탈리아', '덴마크', '노르웨이', '벨기에', '오스트리아', '스페인',\n",
       "       '그리스', '포르투갈', '핀란드', '아일랜드', '우크라이나', '러시아', '크로아티아', '루마니아',\n",
       "       '불가리아', '폴란드', '구주 기타', '대양주', '오스트레일리아', '뉴질랜드', '대양주 기타',\n",
       "       '아프리카주', '남아프리카공화국', '아프리카 기타', '기타대륙', '국적미상', '교포소계', '교포'],\n",
       "      dtype=object)"
      ]
     },
     "metadata": {},
     "execution_count": 44
    }
   ],
   "source": [
    "# 국적이 무엇이 있는가? unique 함수\n",
    "kto_201901['국적'].unique()"
   ]
  },
  {
   "cell_type": "code",
   "execution_count": 52,
   "metadata": {},
   "outputs": [
    {
     "output_type": "execute_result",
     "data": {
      "text/plain": [
       "['아시아주', '미주', '구주', '대양주', '아프리카주', '기타대륙', '교포소계']"
      ]
     },
     "metadata": {},
     "execution_count": 52
    }
   ],
   "source": [
    "#대륙 목록 만들기\n",
    "continents_list = ['아시아주','미주','구주','대양주','아프리카주','기타대륙','교포소계']\n",
    "continents_list\n"
   ]
  },
  {
   "cell_type": "code",
   "execution_count": 60,
   "metadata": {},
   "outputs": [
    {
     "output_type": "execute_result",
     "data": {
      "text/plain": [
       "array(['일본', '대만', '홍콩', '마카오', '태국', '말레이시아', '필리핀', '인도네시아', '싱가포르',\n",
       "       '미얀마', '베트남', '인도', '스리랑카', '파키스탄', '방글라데시', '캄보디아', '몽골', '중국',\n",
       "       '이란', '이스라엘', '터키', '우즈베키스탄', '카자흐스탄', 'GCC', '아시아 기타', '미국',\n",
       "       '캐나다', '멕시코', '브라질', '미주 기타', '영국', '독일', '프랑스', '네덜란드', '스웨덴',\n",
       "       '스위스', '이탈리아', '덴마크', '노르웨이', '벨기에', '오스트리아', '스페인', '그리스', '포르투갈',\n",
       "       '핀란드', '아일랜드', '우크라이나', '러시아', '크로아티아', '루마니아', '불가리아', '폴란드',\n",
       "       '구주 기타', '오스트레일리아', '뉴질랜드', '대양주 기타', '남아프리카공화국', '아프리카 기타',\n",
       "       '국적미상', '교포'], dtype=object)"
      ]
     },
     "metadata": {},
     "execution_count": 60
    }
   ],
   "source": [
    "#대륙 목록에 해당하는 값들은 제외\n",
    "condition =(kto_201901.국적.isin(continents_list) == False)\n",
    "kto_201901_country = kto_201901[condition]\n",
    "kto_201901_country['국적'].unique()"
   ]
  },
  {
   "cell_type": "code",
   "execution_count": null,
   "metadata": {},
   "outputs": [],
   "source": []
  }
 ]
}